{
 "cells": [
  {
   "cell_type": "markdown",
   "id": "e0984e5b",
   "metadata": {},
   "source": [
    "## Predictions\n",
    "URL: https://www.udemy.com/user/freeai-space/"
   ]
  },
  {
   "cell_type": "code",
   "execution_count": 1,
   "id": "588d88c4",
   "metadata": {},
   "outputs": [
    {
     "name": "stdout",
     "output_type": "stream",
     "text": [
      "Applied providers: ['CPUExecutionProvider'], with options: {'CPUExecutionProvider': {}}\n",
      "find model: insightface_model\\models\\buffalo_sc\\det_500m.onnx detection [1, 3, '?', '?'] 127.5 128.0\n",
      "Applied providers: ['CPUExecutionProvider'], with options: {'CPUExecutionProvider': {}}\n",
      "find model: insightface_model\\models\\buffalo_sc\\w600k_mbf.onnx recognition ['None', 3, 112, 112] 127.5 127.5\n",
      "set det-size: (640, 640)\n"
     ]
    }
   ],
   "source": [
    "import face_rec"
   ]
  },
  {
   "cell_type": "code",
   "execution_count": 5,
   "id": "ea8558e8",
   "metadata": {},
   "outputs": [],
   "source": [
    "import pandas as pd\n",
    "import numpy as np\n",
    "import cv2"
   ]
  },
  {
   "cell_type": "code",
   "execution_count": 2,
   "id": "00a47b3f",
   "metadata": {},
   "outputs": [
    {
     "data": {
      "text/plain": [
       "True"
      ]
     },
     "execution_count": 2,
     "metadata": {},
     "output_type": "execute_result"
    }
   ],
   "source": [
    "face_rec.r.ping()"
   ]
  },
  {
   "cell_type": "markdown",
   "id": "d25d421e",
   "metadata": {},
   "source": [
    "#### Step-1: Extract Data from database"
   ]
  },
  {
   "cell_type": "code",
   "execution_count": 10,
   "id": "d234b10c",
   "metadata": {},
   "outputs": [
    {
     "data": {
      "text/html": [
       "<div>\n",
       "<style scoped>\n",
       "    .dataframe tbody tr th:only-of-type {\n",
       "        vertical-align: middle;\n",
       "    }\n",
       "\n",
       "    .dataframe tbody tr th {\n",
       "        vertical-align: top;\n",
       "    }\n",
       "\n",
       "    .dataframe thead th {\n",
       "        text-align: right;\n",
       "    }\n",
       "</style>\n",
       "<table border=\"1\" class=\"dataframe\">\n",
       "  <thead>\n",
       "    <tr style=\"text-align: right;\">\n",
       "      <th></th>\n",
       "      <th>name_role</th>\n",
       "      <th>facial_features</th>\n",
       "      <th>Name</th>\n",
       "      <th>Role</th>\n",
       "    </tr>\n",
       "  </thead>\n",
       "  <tbody>\n",
       "    <tr>\n",
       "      <th>0</th>\n",
       "      <td>Chris Evans@Student</td>\n",
       "      <td>[0.72017145, -1.468415, -0.7781255, -1.4601074...</td>\n",
       "      <td>Chris Evans</td>\n",
       "      <td>Student</td>\n",
       "    </tr>\n",
       "    <tr>\n",
       "      <th>1</th>\n",
       "      <td>Barack Obama@Teacher</td>\n",
       "      <td>[0.94858074, -0.5584053, 0.094820514, -1.27965...</td>\n",
       "      <td>Barack Obama</td>\n",
       "      <td>Teacher</td>\n",
       "    </tr>\n",
       "    <tr>\n",
       "      <th>2</th>\n",
       "      <td>Sudheer@Teacher</td>\n",
       "      <td>[0.3172295, -0.1519747, 0.28519362, 0.26620007...</td>\n",
       "      <td>Sudheer</td>\n",
       "      <td>Teacher</td>\n",
       "    </tr>\n",
       "    <tr>\n",
       "      <th>3</th>\n",
       "      <td>Scarlett Johansson@Student</td>\n",
       "      <td>[0.19131936, -0.4884374, -1.6902335, 0.4423968...</td>\n",
       "      <td>Scarlett Johansson</td>\n",
       "      <td>Student</td>\n",
       "    </tr>\n",
       "    <tr>\n",
       "      <th>4</th>\n",
       "      <td>Angelina Jolie@Student</td>\n",
       "      <td>[0.43242058, 1.0748497, -0.128624, -1.8332914,...</td>\n",
       "      <td>Angelina Jolie</td>\n",
       "      <td>Student</td>\n",
       "    </tr>\n",
       "    <tr>\n",
       "      <th>5</th>\n",
       "      <td>Morgan Freeman@Teacher</td>\n",
       "      <td>[0.48535085, -0.61925495, -0.4069931, 1.068778...</td>\n",
       "      <td>Morgan Freeman</td>\n",
       "      <td>Teacher</td>\n",
       "    </tr>\n",
       "  </tbody>\n",
       "</table>\n",
       "</div>"
      ],
      "text/plain": [
       "                    name_role  \\\n",
       "0         Chris Evans@Student   \n",
       "1        Barack Obama@Teacher   \n",
       "2             Sudheer@Teacher   \n",
       "3  Scarlett Johansson@Student   \n",
       "4      Angelina Jolie@Student   \n",
       "5      Morgan Freeman@Teacher   \n",
       "\n",
       "                                     facial_features                Name  \\\n",
       "0  [0.72017145, -1.468415, -0.7781255, -1.4601074...         Chris Evans   \n",
       "1  [0.94858074, -0.5584053, 0.094820514, -1.27965...        Barack Obama   \n",
       "2  [0.3172295, -0.1519747, 0.28519362, 0.26620007...             Sudheer   \n",
       "3  [0.19131936, -0.4884374, -1.6902335, 0.4423968...  Scarlett Johansson   \n",
       "4  [0.43242058, 1.0748497, -0.128624, -1.8332914,...      Angelina Jolie   \n",
       "5  [0.48535085, -0.61925495, -0.4069931, 1.068778...      Morgan Freeman   \n",
       "\n",
       "      Role  \n",
       "0  Student  \n",
       "1  Teacher  \n",
       "2  Teacher  \n",
       "3  Student  \n",
       "4  Student  \n",
       "5  Teacher  "
      ]
     },
     "execution_count": 10,
     "metadata": {},
     "output_type": "execute_result"
    }
   ],
   "source": [
    "name = 'academy:register'\n",
    "retrive_dict= face_rec.r.hgetall(name)\n",
    "retrive_series = pd.Series(retrive_dict)\n",
    "retrive_series = retrive_series.apply(lambda x: np.frombuffer(x,dtype=np.float32))\n",
    "index = retrive_series.index\n",
    "index = list(map(lambda x: x.decode(), index))\n",
    "retrive_series.index = index\n",
    "retrive_df =  retrive_series.to_frame().reset_index()\n",
    "retrive_df.columns = ['name_role','facial_features']\n",
    "retrive_df[['Name','Role']] = retrive_df['name_role'].apply(lambda x: x.split('@')).apply(pd.Series)\n",
    "retrive_df"
   ]
  },
  {
   "cell_type": "markdown",
   "id": "5641843d",
   "metadata": {},
   "source": [
    "### Step-2: Get Real - Time Prediction"
   ]
  },
  {
   "cell_type": "code",
   "execution_count": 18,
   "id": "c7042031",
   "metadata": {},
   "outputs": [],
   "source": [
    "cap = cv2.VideoCapture(1) # default , # 1 for external camera\n",
    "\n",
    "while True:\n",
    "    ret, frame = cap.read()\n",
    "    \n",
    "    if ret == False:\n",
    "        break\n",
    "        \n",
    "    pred_frame = face_rec.face_prediction(frame,retrive_df,'facial_features',['Name','Role'],thresh=0.5)\n",
    "    \n",
    "    #cv2.imshow('frame',frame)\n",
    "    cv2.imshow('prediciton',pred_frame)\n",
    "    \n",
    "    if cv2.waitKey(1) == 27: # if i press esc button this condition will get trigged\n",
    "        break\n",
    "        \n",
    "cv2.destroyAllWindows()\n",
    "cap.release()"
   ]
  },
  {
   "cell_type": "markdown",
   "id": "bbe93ef2",
   "metadata": {},
   "source": [
    "### [END](https://www.udemy.com/user/freeai-space/)"
   ]
  }
 ],
 "metadata": {
  "kernelspec": {
   "display_name": "Python 3 (ipykernel)",
   "language": "python",
   "name": "python3"
  },
  "language_info": {
   "codemirror_mode": {
    "name": "ipython",
    "version": 3
   },
   "file_extension": ".py",
   "mimetype": "text/x-python",
   "name": "python",
   "nbconvert_exporter": "python",
   "pygments_lexer": "ipython3",
   "version": "3.10.9"
  }
 },
 "nbformat": 4,
 "nbformat_minor": 5
}
