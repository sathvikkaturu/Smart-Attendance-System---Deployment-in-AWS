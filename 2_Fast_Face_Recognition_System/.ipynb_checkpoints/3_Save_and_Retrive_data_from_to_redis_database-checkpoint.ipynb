{
 "cells": [
  {
   "cell_type": "markdown",
   "id": "4c3b608f",
   "metadata": {},
   "source": [
    "### Save and Retrive Data from Redis\n",
    "- https://redis.com/"
   ]
  },
  {
   "cell_type": "code",
   "execution_count": 1,
   "id": "652d146e",
   "metadata": {},
   "outputs": [],
   "source": [
    "import numpy as np\n",
    "import pandas as pd\n",
    "import redis"
   ]
  },
  {
   "cell_type": "code",
   "execution_count": 2,
   "id": "277ea4df",
   "metadata": {},
   "outputs": [],
   "source": [
    "# Connect to Redis Client\n",
    "# redis-18692.c57.us-east-1-4.ec2.cloud.redislabs.com:18692\n",
    "# wCneC8tYJRuw0ovU9Kacbr9kgY4UmQdb\n",
    "hostname = 'redis-18692.c57.us-east-1-4.ec2.cloud.redislabs.com'\n",
    "portnumber = 18692\n",
    "password = 'wCneC8tYJRuw0ovU9Kacbr9kgY4UmQdb'\n",
    "\n",
    "r = redis.StrictRedis(host=hostname,\n",
    "                      port=portnumber,\n",
    "                      password=password)\n"
   ]
  },
  {
   "cell_type": "code",
   "execution_count": 5,
   "id": "95de976e",
   "metadata": {},
   "outputs": [
    {
     "data": {
      "text/plain": [
       "True"
      ]
     },
     "execution_count": 5,
     "metadata": {},
     "output_type": "execute_result"
    }
   ],
   "source": [
    "r.ping()"
   ]
  },
  {
   "cell_type": "code",
   "execution_count": 6,
   "id": "c463ce0f",
   "metadata": {},
   "outputs": [],
   "source": [
    "#r.keys()"
   ]
  },
  {
   "cell_type": "markdown",
   "id": "6e429fd3",
   "metadata": {},
   "source": [
    "#### Load the data (numpy zip)"
   ]
  },
  {
   "cell_type": "code",
   "execution_count": 7,
   "id": "5bae9d33",
   "metadata": {},
   "outputs": [
    {
     "data": {
      "text/html": [
       "<div>\n",
       "<style scoped>\n",
       "    .dataframe tbody tr th:only-of-type {\n",
       "        vertical-align: middle;\n",
       "    }\n",
       "\n",
       "    .dataframe tbody tr th {\n",
       "        vertical-align: top;\n",
       "    }\n",
       "\n",
       "    .dataframe thead th {\n",
       "        text-align: right;\n",
       "    }\n",
       "</style>\n",
       "<table border=\"1\" class=\"dataframe\">\n",
       "  <thead>\n",
       "    <tr style=\"text-align: right;\">\n",
       "      <th></th>\n",
       "      <th>Name</th>\n",
       "      <th>Role</th>\n",
       "      <th>Facial_Features</th>\n",
       "    </tr>\n",
       "  </thead>\n",
       "  <tbody>\n",
       "    <tr>\n",
       "      <th>0</th>\n",
       "      <td>Angelina Jolie</td>\n",
       "      <td>Student</td>\n",
       "      <td>[0.43242058, 1.0748497, -0.128624, -1.8332914,...</td>\n",
       "    </tr>\n",
       "    <tr>\n",
       "      <th>1</th>\n",
       "      <td>Barack Obama</td>\n",
       "      <td>Teacher</td>\n",
       "      <td>[0.94858074, -0.5584053, 0.094820514, -1.27965...</td>\n",
       "    </tr>\n",
       "    <tr>\n",
       "      <th>2</th>\n",
       "      <td>Chris Evans</td>\n",
       "      <td>Student</td>\n",
       "      <td>[0.72017145, -1.468415, -0.7781255, -1.4601074...</td>\n",
       "    </tr>\n",
       "    <tr>\n",
       "      <th>3</th>\n",
       "      <td>Morgan Freeman</td>\n",
       "      <td>Teacher</td>\n",
       "      <td>[0.48535085, -0.61925495, -0.4069931, 1.068778...</td>\n",
       "    </tr>\n",
       "    <tr>\n",
       "      <th>4</th>\n",
       "      <td>Scarlett Johansson</td>\n",
       "      <td>Student</td>\n",
       "      <td>[0.19131936, -0.4884374, -1.6902335, 0.4423968...</td>\n",
       "    </tr>\n",
       "  </tbody>\n",
       "</table>\n",
       "</div>"
      ],
      "text/plain": [
       "                 Name     Role  \\\n",
       "0      Angelina Jolie  Student   \n",
       "1        Barack Obama  Teacher   \n",
       "2         Chris Evans  Student   \n",
       "3      Morgan Freeman  Teacher   \n",
       "4  Scarlett Johansson  Student   \n",
       "\n",
       "                                     Facial_Features  \n",
       "0  [0.43242058, 1.0748497, -0.128624, -1.8332914,...  \n",
       "1  [0.94858074, -0.5584053, 0.094820514, -1.27965...  \n",
       "2  [0.72017145, -1.468415, -0.7781255, -1.4601074...  \n",
       "3  [0.48535085, -0.61925495, -0.4069931, 1.068778...  \n",
       "4  [0.19131936, -0.4884374, -1.6902335, 0.4423968...  "
      ]
     },
     "execution_count": 7,
     "metadata": {},
     "output_type": "execute_result"
    }
   ],
   "source": [
    "np_file = np.load('dataframe_students_teacher.npz',allow_pickle=True)\n",
    "x_values = np_file['arr_0']\n",
    "col_names = np_file['arr_1']\n",
    "\n",
    "df = pd.DataFrame(x_values,columns=col_names)\n",
    "df"
   ]
  },
  {
   "cell_type": "code",
   "execution_count": 8,
   "id": "6cc70e26",
   "metadata": {},
   "outputs": [
    {
     "data": {
      "text/html": [
       "<div>\n",
       "<style scoped>\n",
       "    .dataframe tbody tr th:only-of-type {\n",
       "        vertical-align: middle;\n",
       "    }\n",
       "\n",
       "    .dataframe tbody tr th {\n",
       "        vertical-align: top;\n",
       "    }\n",
       "\n",
       "    .dataframe thead th {\n",
       "        text-align: right;\n",
       "    }\n",
       "</style>\n",
       "<table border=\"1\" class=\"dataframe\">\n",
       "  <thead>\n",
       "    <tr style=\"text-align: right;\">\n",
       "      <th></th>\n",
       "      <th>Name</th>\n",
       "      <th>Role</th>\n",
       "      <th>Facial_Features</th>\n",
       "      <th>name_role</th>\n",
       "    </tr>\n",
       "  </thead>\n",
       "  <tbody>\n",
       "    <tr>\n",
       "      <th>0</th>\n",
       "      <td>Angelina Jolie</td>\n",
       "      <td>Student</td>\n",
       "      <td>[0.43242058, 1.0748497, -0.128624, -1.8332914,...</td>\n",
       "      <td>Angelina Jolie@Student</td>\n",
       "    </tr>\n",
       "    <tr>\n",
       "      <th>1</th>\n",
       "      <td>Barack Obama</td>\n",
       "      <td>Teacher</td>\n",
       "      <td>[0.94858074, -0.5584053, 0.094820514, -1.27965...</td>\n",
       "      <td>Barack Obama@Teacher</td>\n",
       "    </tr>\n",
       "    <tr>\n",
       "      <th>2</th>\n",
       "      <td>Chris Evans</td>\n",
       "      <td>Student</td>\n",
       "      <td>[0.72017145, -1.468415, -0.7781255, -1.4601074...</td>\n",
       "      <td>Chris Evans@Student</td>\n",
       "    </tr>\n",
       "    <tr>\n",
       "      <th>3</th>\n",
       "      <td>Morgan Freeman</td>\n",
       "      <td>Teacher</td>\n",
       "      <td>[0.48535085, -0.61925495, -0.4069931, 1.068778...</td>\n",
       "      <td>Morgan Freeman@Teacher</td>\n",
       "    </tr>\n",
       "    <tr>\n",
       "      <th>4</th>\n",
       "      <td>Scarlett Johansson</td>\n",
       "      <td>Student</td>\n",
       "      <td>[0.19131936, -0.4884374, -1.6902335, 0.4423968...</td>\n",
       "      <td>Scarlett Johansson@Student</td>\n",
       "    </tr>\n",
       "  </tbody>\n",
       "</table>\n",
       "</div>"
      ],
      "text/plain": [
       "                 Name     Role  \\\n",
       "0      Angelina Jolie  Student   \n",
       "1        Barack Obama  Teacher   \n",
       "2         Chris Evans  Student   \n",
       "3      Morgan Freeman  Teacher   \n",
       "4  Scarlett Johansson  Student   \n",
       "\n",
       "                                     Facial_Features  \\\n",
       "0  [0.43242058, 1.0748497, -0.128624, -1.8332914,...   \n",
       "1  [0.94858074, -0.5584053, 0.094820514, -1.27965...   \n",
       "2  [0.72017145, -1.468415, -0.7781255, -1.4601074...   \n",
       "3  [0.48535085, -0.61925495, -0.4069931, 1.068778...   \n",
       "4  [0.19131936, -0.4884374, -1.6902335, 0.4423968...   \n",
       "\n",
       "                    name_role  \n",
       "0      Angelina Jolie@Student  \n",
       "1        Barack Obama@Teacher  \n",
       "2         Chris Evans@Student  \n",
       "3      Morgan Freeman@Teacher  \n",
       "4  Scarlett Johansson@Student  "
      ]
     },
     "execution_count": 8,
     "metadata": {},
     "output_type": "execute_result"
    }
   ],
   "source": [
    "df['name_role'] = df['Name']+'@'+df['Role']\n",
    "df"
   ]
  },
  {
   "cell_type": "code",
   "execution_count": 16,
   "id": "94abf601",
   "metadata": {},
   "outputs": [
    {
     "data": {
      "text/plain": [
       "5"
      ]
     },
     "execution_count": 16,
     "metadata": {},
     "output_type": "execute_result"
    }
   ],
   "source": [
    "records = df[['name_role','Facial_Features']].to_dict(orient='records')\n",
    "len(records)"
   ]
  },
  {
   "cell_type": "markdown",
   "id": "6e0b2a90",
   "metadata": {},
   "source": [
    "## Save data in Redis\n",
    "- redis hashes\n",
    "- keyname = 'academy:register'"
   ]
  },
  {
   "cell_type": "code",
   "execution_count": 20,
   "id": "c51a449a",
   "metadata": {},
   "outputs": [],
   "source": [
    "for record in records:\n",
    "    name_role = record['name_role']\n",
    "    vector = record['Facial_Features']\n",
    "    \n",
    "    # convert numpy array into bytes\n",
    "    vector_bytes = vector.tobytes()\n",
    "    \n",
    "    # save data into redis cloud\n",
    "    r.hset(name='academy:register',key=name_role,value=vector_bytes)"
   ]
  },
  {
   "cell_type": "code",
   "execution_count": 29,
   "id": "7259b365",
   "metadata": {},
   "outputs": [
    {
     "data": {
      "text/plain": [
       "dtype('float32')"
      ]
     },
     "execution_count": 29,
     "metadata": {},
     "output_type": "execute_result"
    }
   ],
   "source": [
    "vector.dtype"
   ]
  },
  {
   "cell_type": "markdown",
   "id": "9a958caa",
   "metadata": {},
   "source": [
    "### Retrive Records from Redis"
   ]
  },
  {
   "cell_type": "code",
   "execution_count": 23,
   "id": "9bbfbbe9",
   "metadata": {},
   "outputs": [
    {
     "data": {
      "text/plain": [
       "b'Morgan Freeman@Teacher'        b'\\xe8\\x7f\\xf8>~\\x87\\x1e\\xbffa\\xd0\\xbe\\xbe\\xcd...\n",
       "b'Barack Obama@Teacher'          b'0\\xd6r?\\xa6\\xf3\\x0e\\xbfB1\\xc2=\\xe1\\xcb\\xa3\\x...\n",
       "b'Angelina Jolie@Student'        b';f\\xdd>\\xad\\x94\\x89?\\x03\\xb6\\x03\\xbeK\\xa9\\xe...\n",
       "b'Chris Evans@Student'           b'(]8?\\x06\\xf5\\xbb\\xbf<3G\\xbf\\xcd\\xe4\\xba\\xbf\\...\n",
       "b'Scarlett Johansson@Student'    b'9\\xe9C>x\\x14\\xfa\\xbe\\x92Y\\xd8\\xbf\\xd8\\x81\\xe...\n",
       "dtype: object"
      ]
     },
     "execution_count": 23,
     "metadata": {},
     "output_type": "execute_result"
    }
   ],
   "source": [
    "retrive_dict = r.hgetall(name='academy:register')\n",
    "retrive_series = pd.Series(retrive_dict)\n",
    "retrive_series"
   ]
  },
  {
   "cell_type": "code",
   "execution_count": 39,
   "id": "4cb3ff01",
   "metadata": {},
   "outputs": [],
   "source": [
    "#np.frombuffer(retrive_series[b'Morgan Freeman@Teacher'],dtype=np.float32).shape\n",
    "retrive_series = retrive_series.apply(lambda x: np.frombuffer(x,dtype=np.float32))\n",
    "index = retrive_series.index\n",
    "index = list(map(lambda x: x.decode(), index))"
   ]
  },
  {
   "cell_type": "code",
   "execution_count": 40,
   "id": "7ff52f5c",
   "metadata": {},
   "outputs": [],
   "source": [
    "retrive_series.index = index"
   ]
  },
  {
   "cell_type": "code",
   "execution_count": 44,
   "id": "846603fc",
   "metadata": {},
   "outputs": [
    {
     "data": {
      "text/html": [
       "<div>\n",
       "<style scoped>\n",
       "    .dataframe tbody tr th:only-of-type {\n",
       "        vertical-align: middle;\n",
       "    }\n",
       "\n",
       "    .dataframe tbody tr th {\n",
       "        vertical-align: top;\n",
       "    }\n",
       "\n",
       "    .dataframe thead th {\n",
       "        text-align: right;\n",
       "    }\n",
       "</style>\n",
       "<table border=\"1\" class=\"dataframe\">\n",
       "  <thead>\n",
       "    <tr style=\"text-align: right;\">\n",
       "      <th></th>\n",
       "      <th>name_role</th>\n",
       "      <th>facial_features</th>\n",
       "    </tr>\n",
       "  </thead>\n",
       "  <tbody>\n",
       "    <tr>\n",
       "      <th>0</th>\n",
       "      <td>Morgan Freeman@Teacher</td>\n",
       "      <td>[0.48535085, -0.61925495, -0.4069931, 1.068778...</td>\n",
       "    </tr>\n",
       "    <tr>\n",
       "      <th>1</th>\n",
       "      <td>Barack Obama@Teacher</td>\n",
       "      <td>[0.94858074, -0.5584053, 0.094820514, -1.27965...</td>\n",
       "    </tr>\n",
       "    <tr>\n",
       "      <th>2</th>\n",
       "      <td>Angelina Jolie@Student</td>\n",
       "      <td>[0.43242058, 1.0748497, -0.128624, -1.8332914,...</td>\n",
       "    </tr>\n",
       "    <tr>\n",
       "      <th>3</th>\n",
       "      <td>Chris Evans@Student</td>\n",
       "      <td>[0.72017145, -1.468415, -0.7781255, -1.4601074...</td>\n",
       "    </tr>\n",
       "    <tr>\n",
       "      <th>4</th>\n",
       "      <td>Scarlett Johansson@Student</td>\n",
       "      <td>[0.19131936, -0.4884374, -1.6902335, 0.4423968...</td>\n",
       "    </tr>\n",
       "  </tbody>\n",
       "</table>\n",
       "</div>"
      ],
      "text/plain": [
       "                    name_role  \\\n",
       "0      Morgan Freeman@Teacher   \n",
       "1        Barack Obama@Teacher   \n",
       "2      Angelina Jolie@Student   \n",
       "3         Chris Evans@Student   \n",
       "4  Scarlett Johansson@Student   \n",
       "\n",
       "                                     facial_features  \n",
       "0  [0.48535085, -0.61925495, -0.4069931, 1.068778...  \n",
       "1  [0.94858074, -0.5584053, 0.094820514, -1.27965...  \n",
       "2  [0.43242058, 1.0748497, -0.128624, -1.8332914,...  \n",
       "3  [0.72017145, -1.468415, -0.7781255, -1.4601074...  \n",
       "4  [0.19131936, -0.4884374, -1.6902335, 0.4423968...  "
      ]
     },
     "execution_count": 44,
     "metadata": {},
     "output_type": "execute_result"
    }
   ],
   "source": [
    "retrive_df = retrive_series.to_frame().reset_index()\n",
    "retrive_df.columns = ['name_role','facial_features']\n",
    "retrive_df"
   ]
  },
  {
   "cell_type": "markdown",
   "id": "461d37ce",
   "metadata": {},
   "source": [
    "### Registration Form"
   ]
  },
  {
   "cell_type": "code",
   "execution_count": 26,
   "id": "0e41c1f8",
   "metadata": {},
   "outputs": [],
   "source": [
    "import cv2\n",
    "from insightface.app import FaceAnalysis"
   ]
  },
  {
   "cell_type": "code",
   "execution_count": 28,
   "id": "d001aaf5",
   "metadata": {},
   "outputs": [
    {
     "name": "stdout",
     "output_type": "stream",
     "text": [
      "Applied providers: ['CPUExecutionProvider'], with options: {'CPUExecutionProvider': {}}\n",
      "find model: insightface_model\\models\\buffalo_sc\\det_500m.onnx detection [1, 3, '?', '?'] 127.5 128.0\n",
      "Applied providers: ['CPUExecutionProvider'], with options: {'CPUExecutionProvider': {}}\n",
      "find model: insightface_model\\models\\buffalo_sc\\w600k_mbf.onnx recognition ['None', 3, 112, 112] 127.5 127.5\n",
      "set det-size: (640, 640)\n"
     ]
    }
   ],
   "source": [
    "# configure face analysis\n",
    "faceapp = FaceAnalysis(name='buffalo_sc',\n",
    "                       root='insightface_model',\n",
    "                       providers=['CPUExecutionProvider'])\n",
    "\n",
    "faceapp.prepare(ctx_id=0, det_size=(640,640), det_thresh=0.5)\n",
    "# warning: don't set det_thresh < 0.3"
   ]
  },
  {
   "cell_type": "markdown",
   "id": "9d4d1ba8",
   "metadata": {},
   "source": [
    "##### Step-1: Collect Person and Role"
   ]
  },
  {
   "cell_type": "code",
   "execution_count": 64,
   "id": "26c2565a",
   "metadata": {},
   "outputs": [
    {
     "name": "stdout",
     "output_type": "stream",
     "text": [
      "Enter your name: Sudheer\n",
      "\n",
      "    Please choose\n",
      "    1. Student\n",
      "    2. Teacher\n",
      "\n",
      "    Enter number either 1 or 2\n",
      "    2\n",
      "Your name =  Sudheer\n",
      "Your role = Teacher\n",
      "Key = Sudheer@Teacher\n"
     ]
    }
   ],
   "source": [
    "# python input\n",
    "person_name = input('Enter your name: ')\n",
    "\n",
    "trials = 3\n",
    "for i in range(trials):\n",
    "    role = input(\"\"\"\n",
    "    Please choose\n",
    "    1. Student\n",
    "    2. Teacher\n",
    "\n",
    "    Enter number either 1 or 2\n",
    "    \"\"\")\n",
    "    \n",
    "    if role in ('1','2'):\n",
    "        if role == '1':\n",
    "            role = 'Student'\n",
    "        else:\n",
    "            role = 'Teacher'\n",
    "        \n",
    "        break\n",
    "    else:\n",
    "        print('Invalid entry try again')\n",
    "        if i == 3:\n",
    "            print('Exceeds maximum trails')\n",
    "            \n",
    "key = person_name +'@'+ role\n",
    "print('Your name = ', person_name)\n",
    "print('Your role =', role)\n",
    "print('Key =',key)"
   ]
  },
  {
   "cell_type": "markdown",
   "id": "fc205991",
   "metadata": {},
   "source": [
    "##### Step-2: Collect Samples"
   ]
  },
  {
   "cell_type": "code",
   "execution_count": 73,
   "id": "a20da5fa",
   "metadata": {},
   "outputs": [],
   "source": [
    "cap = cv2.VideoCapture(0) # 0 default camera, 1 external camera\n",
    "face_embeddings = []\n",
    "sample = 0\n",
    "while True:\n",
    "    ret, frame = cap.read()\n",
    "    if ret == False:\n",
    "        print('Unable to read camera')\n",
    "        break\n",
    "    # get results from insightface model\n",
    "    results = faceapp.get(frame,max_num=1)\n",
    "    for res in results:\n",
    "        sample += 1\n",
    "        x1, y1, x2, y2 = res['bbox'].astype(int)\n",
    "        cv2.rectangle(frame, (x1,y1),(x2,y2),(0,255,0),1)\n",
    "        \n",
    "        # facial features\n",
    "        embeddings = res['embedding']\n",
    "        face_embeddings.append(embeddings)\n",
    "        \n",
    "    if sample >= 200: \n",
    "        break\n",
    "    \n",
    "    cv2.imshow('frame',frame)\n",
    "    if cv2.waitKey(1) == ord('q'): # this is trigger only when I press letter q (lowercase q) in my keyboard\n",
    "        break\n",
    "        \n",
    "cap.release()\n",
    "cv2.destroyAllWindows()"
   ]
  },
  {
   "cell_type": "code",
   "execution_count": 74,
   "id": "a18b8299",
   "metadata": {},
   "outputs": [
    {
     "data": {
      "text/plain": [
       "200"
      ]
     },
     "execution_count": 74,
     "metadata": {},
     "output_type": "execute_result"
    }
   ],
   "source": [
    "len(face_embeddings)"
   ]
  },
  {
   "cell_type": "markdown",
   "id": "dab1e76d",
   "metadata": {},
   "source": [
    "##### Step-3: Optimize Data & Save in Redis Database"
   ]
  },
  {
   "cell_type": "code",
   "execution_count": 81,
   "id": "95e9c35b",
   "metadata": {},
   "outputs": [
    {
     "data": {
      "text/plain": [
       "(512,)"
      ]
     },
     "execution_count": 81,
     "metadata": {},
     "output_type": "execute_result"
    }
   ],
   "source": [
    "x_mean = np.asarray(face_embeddings).mean(axis=0)\n",
    "x_mean.shape"
   ]
  },
  {
   "cell_type": "code",
   "execution_count": 82,
   "id": "06d36b5c",
   "metadata": {},
   "outputs": [],
   "source": [
    "# convert into bytes\n",
    "x_mean_bytes = x_mean.tobytes()"
   ]
  },
  {
   "cell_type": "code",
   "execution_count": 83,
   "id": "39ee919b",
   "metadata": {},
   "outputs": [
    {
     "data": {
      "text/plain": [
       "1"
      ]
     },
     "execution_count": 83,
     "metadata": {},
     "output_type": "execute_result"
    }
   ],
   "source": [
    "# save key and facial bytes into redis database\n",
    "r.hset(name='academy:register',key=key,value=x_mean_bytes)"
   ]
  },
  {
   "cell_type": "code",
   "execution_count": null,
   "id": "25b6a7ce",
   "metadata": {},
   "outputs": [],
   "source": []
  },
  {
   "cell_type": "code",
   "execution_count": null,
   "id": "cd6e9874",
   "metadata": {},
   "outputs": [],
   "source": []
  },
  {
   "cell_type": "code",
   "execution_count": null,
   "id": "f8de1dfe",
   "metadata": {},
   "outputs": [],
   "source": []
  },
  {
   "cell_type": "code",
   "execution_count": null,
   "id": "0981b822",
   "metadata": {},
   "outputs": [],
   "source": []
  },
  {
   "cell_type": "code",
   "execution_count": null,
   "id": "adf559e9",
   "metadata": {},
   "outputs": [],
   "source": []
  },
  {
   "cell_type": "code",
   "execution_count": null,
   "id": "7f1c0047",
   "metadata": {},
   "outputs": [],
   "source": []
  },
  {
   "cell_type": "code",
   "execution_count": null,
   "id": "1b9083cd",
   "metadata": {},
   "outputs": [],
   "source": []
  },
  {
   "cell_type": "code",
   "execution_count": null,
   "id": "864ecf75",
   "metadata": {},
   "outputs": [],
   "source": []
  },
  {
   "cell_type": "code",
   "execution_count": null,
   "id": "6f4fad54",
   "metadata": {},
   "outputs": [],
   "source": []
  },
  {
   "cell_type": "code",
   "execution_count": null,
   "id": "1ec342db",
   "metadata": {},
   "outputs": [],
   "source": []
  },
  {
   "cell_type": "code",
   "execution_count": null,
   "id": "c32d2faf",
   "metadata": {},
   "outputs": [],
   "source": []
  },
  {
   "cell_type": "code",
   "execution_count": null,
   "id": "077c5c14",
   "metadata": {},
   "outputs": [],
   "source": []
  },
  {
   "cell_type": "code",
   "execution_count": null,
   "id": "4ead30e7",
   "metadata": {},
   "outputs": [],
   "source": []
  },
  {
   "cell_type": "code",
   "execution_count": null,
   "id": "3ca575e1",
   "metadata": {},
   "outputs": [],
   "source": []
  },
  {
   "cell_type": "code",
   "execution_count": null,
   "id": "c42a3a8b",
   "metadata": {},
   "outputs": [],
   "source": []
  },
  {
   "cell_type": "code",
   "execution_count": null,
   "id": "98614699",
   "metadata": {},
   "outputs": [],
   "source": []
  },
  {
   "cell_type": "code",
   "execution_count": null,
   "id": "b7dc1c3a",
   "metadata": {},
   "outputs": [],
   "source": []
  },
  {
   "cell_type": "code",
   "execution_count": null,
   "id": "195294f5",
   "metadata": {},
   "outputs": [],
   "source": []
  },
  {
   "cell_type": "code",
   "execution_count": null,
   "id": "0dd9a61b",
   "metadata": {},
   "outputs": [],
   "source": []
  },
  {
   "cell_type": "code",
   "execution_count": null,
   "id": "979c606d",
   "metadata": {},
   "outputs": [],
   "source": []
  },
  {
   "cell_type": "code",
   "execution_count": null,
   "id": "b41df0a4",
   "metadata": {},
   "outputs": [],
   "source": []
  }
 ],
 "metadata": {
  "kernelspec": {
   "display_name": "Python 3 (ipykernel)",
   "language": "python",
   "name": "python3"
  },
  "language_info": {
   "codemirror_mode": {
    "name": "ipython",
    "version": 3
   },
   "file_extension": ".py",
   "mimetype": "text/x-python",
   "name": "python",
   "nbconvert_exporter": "python",
   "pygments_lexer": "ipython3",
   "version": "3.10.9"
  }
 },
 "nbformat": 4,
 "nbformat_minor": 5
}
